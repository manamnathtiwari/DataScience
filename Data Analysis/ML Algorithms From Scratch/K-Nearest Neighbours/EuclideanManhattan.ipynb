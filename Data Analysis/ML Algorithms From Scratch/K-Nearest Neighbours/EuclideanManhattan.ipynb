{
 "cells": [
  {
   "cell_type": "code",
   "execution_count": 1,
   "metadata": {},
   "outputs": [],
   "source": [
    "import numpy as np  "
   ]
  },
  {
   "cell_type": "code",
   "execution_count": 2,
   "metadata": {},
   "outputs": [],
   "source": [
    "# Consider two points with two dimenions \n",
    "p1 = (1,1)\n",
    "p2 = (2,2)"
   ]
  },
  {
   "cell_type": "code",
   "execution_count": 4,
   "metadata": {},
   "outputs": [
    {
     "data": {
      "text/plain": [
       "1.4142135623730951"
      ]
     },
     "execution_count": 4,
     "metadata": {},
     "output_type": "execute_result"
    }
   ],
   "source": [
    "# Calculating two points with dimensions\n",
    "dist = (p1[0]-p2[0])**2 + (p1[1]-p2[1])**2\n",
    "\n",
    "\n",
    "euclideanDist = np.sqrt(dist)\n",
    "euclideanDist"
   ]
  },
  {
   "cell_type": "code",
   "execution_count": 6,
   "metadata": {},
   "outputs": [
    {
     "data": {
      "text/plain": [
       "1.7320508075688772"
      ]
     },
     "execution_count": 6,
     "metadata": {},
     "output_type": "execute_result"
    }
   ],
   "source": [
    "# Consider two points with three dimenions \n",
    "p1 = (1,1,1)\n",
    "p2 = (2,2,2)\n",
    "\n",
    "# Calculating two points with dimensions\n",
    "dist = (p1[0]-p2[0])**2 + (p1[1]-p2[1])**2 + (p1[2]-p2[2])**2\n",
    "\n",
    "\n",
    "euclideanDist = np.sqrt(dist)\n",
    "euclideanDist"
   ]
  },
  {
   "cell_type": "code",
   "execution_count": 10,
   "metadata": {},
   "outputs": [
    {
     "data": {
      "text/plain": [
       "1.7320508075688772"
      ]
     },
     "execution_count": 10,
     "metadata": {},
     "output_type": "execute_result"
    }
   ],
   "source": [
    "# Consider two points with three dimenions \n",
    "p1 = (1,1,1)\n",
    "p2 = (2,2,2)\n",
    "\n",
    "# General Code  for any euclidean of any distances\n",
    "\n",
    "dist = 0\n",
    "\n",
    "for i in range(len(p1)):\n",
    "    dist = dist + (p1[i]-p2[i])**2\n",
    "    \n",
    "\n",
    "euclideanDist = np.sqrt(dist)\n",
    "euclideanDist\n"
   ]
  },
  {
   "cell_type": "markdown",
   "metadata": {},
   "source": [
    "Creating a Funnction for Calculating the Euclidean Distances "
   ]
  },
  {
   "cell_type": "code",
   "execution_count": 20,
   "metadata": {},
   "outputs": [
    {
     "name": "stdout",
     "output_type": "stream",
     "text": [
      "44.04543109109048\n"
     ]
    }
   ],
   "source": [
    "def get_euc_dist(p1,p2):\n",
    "    dist = 0\n",
    "    for i in range(len(p1)):\n",
    "        dist = dist + (p1[i]-p2[i])**2\n",
    "    euclideanDist = np.sqrt(dist)\n",
    "    print(euclideanDist)\n",
    "    \n",
    "p1=(1,4)\n",
    "p2=(45,2)\n",
    "get_euc_dist(p1,p2)"
   ]
  },
  {
   "cell_type": "markdown",
   "metadata": {},
   "source": [
    "Manhattan Distance \n"
   ]
  },
  {
   "cell_type": "code",
   "execution_count": 24,
   "metadata": {},
   "outputs": [
    {
     "name": "stdout",
     "output_type": "stream",
     "text": [
      "46\n"
     ]
    }
   ],
   "source": [
    "\n",
    "def get_man_dist(p1,p2):\n",
    "    dist = 0\n",
    "    for i in range(len(p1)):\n",
    "        dist = dist + abs((p1[i]-p2[i]))\n",
    "    print(dist)\n",
    "    \n",
    "p1=(1,4)\n",
    "p2=(45,2)\n",
    "get_man_dist(p1,p2)"
   ]
  },
  {
   "cell_type": "code",
   "execution_count": null,
   "metadata": {},
   "outputs": [],
   "source": [
    "# distance between two similar data points \n",
    "\n",
    "get_euc_dist()\n",
    "get_man_dist()"
   ]
  }
 ],
 "metadata": {
  "kernelspec": {
   "display_name": "Python 3",
   "language": "python",
   "name": "python3"
  },
  "language_info": {
   "codemirror_mode": {
    "name": "ipython",
    "version": 3
   },
   "file_extension": ".py",
   "mimetype": "text/x-python",
   "name": "python",
   "nbconvert_exporter": "python",
   "pygments_lexer": "ipython3",
   "version": "3.10.11"
  }
 },
 "nbformat": 4,
 "nbformat_minor": 2
}
